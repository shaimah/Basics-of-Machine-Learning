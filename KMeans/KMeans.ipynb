{
 "cells": [
  {
   "cell_type": "markdown",
   "metadata": {},
   "source": [
    "### KMeans Algorithm\n",
    "\n",
    "This is a type of unsupervised learning technique in which no prior labeling of data is required. In fact, the purpose of the algorithm is to group data based on distance similarity. K number of central points known as centroids are chosen and the closest datapoints in the dataset are assigned to those centroids. After each iteration, the centroid is updated by selecting the mean data point in the cluster; this pretty much explains why the algorithm is known as KMeans!\n",
    "\n",
    "We shall follow two strategies to group our 2D data points:\n",
    "- Randomly initialize the centroids\n",
    "- Used KMeans++ technique to initialize the centroids\n",
    "\n",
    "#### STEP0: Function definition\n",
    "- Define a function for randomly initializing k centroid coordinates for strategy1\n",
    "- Define another function for randomly initializing the first centroid only for strategy2\n",
    "- Define the euclidean distance function necessary for clustering and tracking centroid reassignment\n",
    "\n",
    "\n",
    "#### STEP1: Centroid initialization\n",
    "- For strategy 1, just call the functions from step0 to initialize the k centroids\n",
    "- For strateg2, call the function from step1 to initialize the first centroid, then implement an algorithm to assign the farthest datapoint from all current centroids as the new centroid until you have k centroids\n",
    "\n",
    "\n",
    "#### STEP2: Defining the kmeans algorithm\n",
    "- Once k centroids are initiated, you'll have to optmize the position of each centroid\n",
    "- For every datapoint, the euclidean distance for each centroid is calculated. The datapoint is then assigned to nearest centroid.\n",
    "- After the clustering for all datapoints is completed, the coordinate values of the mean of the datapoints in a cluster are also the coordinates of the new centroid.\n",
    "- The process is repeated until there is no change between the old and new centroids\n",
    "\n",
    "#### STEP3: Evaluating your model\n",
    "- Recall that we don't really have any ideal clusters or labels for the data. Your ultimate goal is to minimize the total overall distance between the datapoints and their clusters; the smaller the overall all distance the better the clustering algorithm."
   ]
  },
  {
   "cell_type": "code",
   "execution_count": 1,
   "metadata": {},
   "outputs": [],
   "source": [
    "import numpy as np\n",
    "import random\n",
    "from sklearn.cluster import KMeans\n",
    "from copy import deepcopy\n",
    "from matplotlib import pyplot as plt\n",
    "\n",
    "\n",
    "#STEP 0\n",
    "\n",
    "##randomly initializing k centroids for strategy1\n",
    "\n",
    "## Randomly select k indices out of N samples\n",
    "def initial_point_idx(id, k,N):\n",
    "    return np.random.RandomState(seed=(id+k)).permutation(N)[:k]\n",
    "\n",
    "## Generate an array of the datapoints based on the k ranomly generated indices\n",
    "def init_point(data, idx):\n",
    "    return data[idx,:]\n",
    "\n",
    "##randomly initializing only the first centroid for strategy2\n",
    "def initial_point_idx2(id, k,N):\n",
    "    random.seed((int(id)%150+k))\n",
    "    init_idx2 = random.randint(0,N-1)\n",
    "    return init_idx2\n",
    "\n",
    "## Define the distance function (Euclidean distance calculator)\n",
    "def dist(a, b, ax=1):\n",
    "    return np.linalg.norm(a - b, axis=ax)\n",
    "\n"
   ]
  },
  {
   "cell_type": "code",
   "execution_count": 2,
   "metadata": {},
   "outputs": [],
   "source": [
    "# STEP 1: centroid initialization\n",
    "\n",
    "def strategy1(idx,k):\n",
    "    init_idx = initial_point_idx(idx,k,data.shape[0])\n",
    "    init_s1 = init_point(data, init_idx)\n",
    "    init_s1 = kMeans( k, init_s1)\n",
    "    return init_s1\n",
    "\n",
    "def strategy2(idx,k):\n",
    "    init_idx2 = initial_point_idx2(idx,k,data.shape[0])\n",
    "    #only one centroid is selected from the data point based on the randomly generated index\n",
    "    init_s1 = np.array(data[init_idx2,:])\n",
    "    \n",
    "    #remove the centroid's coordinates from the dataset as it should be included in the probability calculations\n",
    "    data1 = np.delete(data, init_idx2, axis = 0)\n",
    "    \n",
    "    for _ in range(1,k):\n",
    "    #find the inner product to find the squared distance between the centroids added to the array and each remaining datapoint\n",
    "        squared_distances = np.array([sum([np.inner(centroid - sample,centroid - sample) for centroid in init_s1]) for sample in data1 ])\n",
    "    # Convert the distances into probabilities that a specific sample could be the center of a new centroid\n",
    "        prob = squared_distances / squared_distances.sum()\n",
    "    \n",
    "        for index, probability in enumerate(prob):\n",
    "            # The farthest point from the previous computed centroids will be assigned as the new centroid as it has the highest probability. \n",
    "            if probability == prob.max():\n",
    "                init_s1 = np.vstack((init_s1, data1[index]))\n",
    "                \n",
    "                #once again, make sure to exclude the coordinates of the newly added centroid\n",
    "                data1 = np.delete(data1, index, axis=0) \n",
    "            \n",
    "                #break the loop once you find the point with the greatest distance from all centroids\n",
    "                break\n",
    "    init_s1 = kMeans(k, init_s1)   \n",
    "    return init_s1"
   ]
  },
  {
   "cell_type": "code",
   "execution_count": 3,
   "metadata": {
    "scrolled": true
   },
   "outputs": [],
   "source": [
    "# STEP 2: define the Kmeans clustering alogrithm (without the centroid initialization step)\n",
    "\n",
    "def kMeans( k, init_s1):\n",
    "    init_s1_old = np.zeros(init_s1.shape)\n",
    "    clusters = np.zeros(len(data))\n",
    "    centroid = init_s1\n",
    "    \n",
    "    ##define the stopping criterion - when the centroids aren't reassigned in the next iteration\n",
    "    error = dist(init_s1, init_s1_old, None)\n",
    "    while (error != 0):\n",
    "        for i in range(len(data)):\n",
    "            ## compute the distance between the ith datapoint and each centroid\n",
    "            distances = dist(data[i], init_s1)\n",
    "            ## pick the centroid with the minimum distance from the ith datapoint\n",
    "            cluster = np.argmin(distances)\n",
    "            ## classify that ith datapoint into the cluster with the minimum distance from the centroid\n",
    "            clusters[i] = cluster\n",
    "        ## update the centroid coordinates by finding the mean x- and y- coordinates of the cluster datapoints\n",
    "        for i in range(k):\n",
    "            points = [data[j] for j in range(len(data)) if clusters[j] == i]\n",
    "            init_s1[i] = np.mean(points, axis = 0)\n",
    "        error = dist(init_s1, init_s1_old, None)\n",
    "        init_s1_old = deepcopy(init_s1)\n",
    "        \n",
    "    # STEP 3: Evaluation and plotting the clustered datapoints    \n",
    "    colors = ['r', 'g', 'b', 'y', 'c','c']\n",
    "    fig, ax = plt.subplots()\n",
    "    total_dist = 0\n",
    "    for i in range(k):\n",
    "        points = np.array([data[j] for j in range(len(data)) if clusters[j] == i])\n",
    "        distance = dist(init_s1[i], points)\n",
    "        total_dist += distance.sum()\n",
    "        ax.scatter(points[:, 0], points[:, 1], s=7, c=colors[i])\n",
    "    ax.scatter(init_s1[:, 0], init_s1[:, 1], marker='*', s=200, c='#050505')\n",
    "\n",
    "    \n",
    "    \n",
    "    return init_s1, total_dist"
   ]
  },
  {
   "cell_type": "code",
   "execution_count": 4,
   "metadata": {},
   "outputs": [
    {
     "ename": "AttributeError",
     "evalue": "'PathCollection' object has no property 'title'",
     "output_type": "error",
     "traceback": [
      "\u001b[1;31m---------------------------------------------------------------------------\u001b[0m",
      "\u001b[1;31mAttributeError\u001b[0m                            Traceback (most recent call last)",
      "Input \u001b[1;32mIn [4]\u001b[0m, in \u001b[0;36m<cell line: 6>\u001b[1;34m()\u001b[0m\n\u001b[0;32m      4\u001b[0m k1 \u001b[38;5;241m=\u001b[39m \u001b[38;5;241m6\u001b[39m\n\u001b[0;32m      5\u001b[0m k2 \u001b[38;5;241m=\u001b[39m \u001b[38;5;241m6\u001b[39m\n\u001b[1;32m----> 6\u001b[0m init_s1, error1 \u001b[38;5;241m=\u001b[39m \u001b[43mstrategy1\u001b[49m\u001b[43m(\u001b[49m\u001b[38;5;241;43m2006\u001b[39;49m\u001b[43m,\u001b[49m\u001b[43m \u001b[49m\u001b[43mk1\u001b[49m\u001b[43m)\u001b[49m\n\u001b[0;32m      8\u001b[0m init_s2, error2 \u001b[38;5;241m=\u001b[39m strategy2(\u001b[38;5;241m2006\u001b[39m, k2)\n\u001b[0;32m     10\u001b[0m \u001b[38;5;28mprint\u001b[39m(\u001b[38;5;124m\"\u001b[39m\u001b[38;5;124merror for strategy1: \u001b[39m\u001b[38;5;124m\"\u001b[39m, error1)\n",
      "Input \u001b[1;32mIn [2]\u001b[0m, in \u001b[0;36mstrategy1\u001b[1;34m(idx, k)\u001b[0m\n\u001b[0;32m      4\u001b[0m init_idx \u001b[38;5;241m=\u001b[39m initial_point_idx(idx,k,data\u001b[38;5;241m.\u001b[39mshape[\u001b[38;5;241m0\u001b[39m])\n\u001b[0;32m      5\u001b[0m init_s1 \u001b[38;5;241m=\u001b[39m init_point(data, init_idx)\n\u001b[1;32m----> 6\u001b[0m init_s1 \u001b[38;5;241m=\u001b[39m \u001b[43mkMeans\u001b[49m\u001b[43m(\u001b[49m\u001b[43m \u001b[49m\u001b[43mk\u001b[49m\u001b[43m,\u001b[49m\u001b[43m \u001b[49m\u001b[43minit_s1\u001b[49m\u001b[43m)\u001b[49m\n\u001b[0;32m      7\u001b[0m \u001b[38;5;28;01mreturn\u001b[39;00m init_s1\n",
      "Input \u001b[1;32mIn [3]\u001b[0m, in \u001b[0;36mkMeans\u001b[1;34m(k, init_s1)\u001b[0m\n\u001b[0;32m     32\u001b[0m     total_dist \u001b[38;5;241m+\u001b[39m\u001b[38;5;241m=\u001b[39m distance\u001b[38;5;241m.\u001b[39msum()\n\u001b[0;32m     33\u001b[0m     ax\u001b[38;5;241m.\u001b[39mscatter(points[:, \u001b[38;5;241m0\u001b[39m], points[:, \u001b[38;5;241m1\u001b[39m], s\u001b[38;5;241m=\u001b[39m\u001b[38;5;241m7\u001b[39m, c\u001b[38;5;241m=\u001b[39mcolors[i])\n\u001b[1;32m---> 34\u001b[0m \u001b[43max\u001b[49m\u001b[38;5;241;43m.\u001b[39;49m\u001b[43mscatter\u001b[49m\u001b[43m(\u001b[49m\u001b[43minit_s1\u001b[49m\u001b[43m[\u001b[49m\u001b[43m:\u001b[49m\u001b[43m,\u001b[49m\u001b[43m \u001b[49m\u001b[38;5;241;43m0\u001b[39;49m\u001b[43m]\u001b[49m\u001b[43m,\u001b[49m\u001b[43m \u001b[49m\u001b[43minit_s1\u001b[49m\u001b[43m[\u001b[49m\u001b[43m:\u001b[49m\u001b[43m,\u001b[49m\u001b[43m \u001b[49m\u001b[38;5;241;43m1\u001b[39;49m\u001b[43m]\u001b[49m\u001b[43m,\u001b[49m\u001b[43m \u001b[49m\u001b[43mmarker\u001b[49m\u001b[38;5;241;43m=\u001b[39;49m\u001b[38;5;124;43m'\u001b[39;49m\u001b[38;5;124;43m*\u001b[39;49m\u001b[38;5;124;43m'\u001b[39;49m\u001b[43m,\u001b[49m\u001b[43m \u001b[49m\u001b[43ms\u001b[49m\u001b[38;5;241;43m=\u001b[39;49m\u001b[38;5;241;43m200\u001b[39;49m\u001b[43m,\u001b[49m\u001b[43m \u001b[49m\u001b[43mc\u001b[49m\u001b[38;5;241;43m=\u001b[39;49m\u001b[38;5;124;43m'\u001b[39;49m\u001b[38;5;124;43m#050505\u001b[39;49m\u001b[38;5;124;43m'\u001b[39;49m\u001b[43m,\u001b[49m\u001b[43m \u001b[49m\u001b[43mtitle\u001b[49m\u001b[43m \u001b[49m\u001b[38;5;241;43m=\u001b[39;49m\u001b[43m \u001b[49m\u001b[38;5;124;43m\"\u001b[39;49m\u001b[38;5;124;43mStrategy\u001b[39;49m\u001b[38;5;124;43m\"\u001b[39;49m\u001b[43m)\u001b[49m\n\u001b[0;32m     38\u001b[0m \u001b[38;5;28;01mreturn\u001b[39;00m init_s1, total_dist\n",
      "File \u001b[1;32m~\\anaconda3\\lib\\site-packages\\matplotlib\\__init__.py:1412\u001b[0m, in \u001b[0;36m_preprocess_data.<locals>.inner\u001b[1;34m(ax, data, *args, **kwargs)\u001b[0m\n\u001b[0;32m   1409\u001b[0m \u001b[38;5;129m@functools\u001b[39m\u001b[38;5;241m.\u001b[39mwraps(func)\n\u001b[0;32m   1410\u001b[0m \u001b[38;5;28;01mdef\u001b[39;00m \u001b[38;5;21minner\u001b[39m(ax, \u001b[38;5;241m*\u001b[39margs, data\u001b[38;5;241m=\u001b[39m\u001b[38;5;28;01mNone\u001b[39;00m, \u001b[38;5;241m*\u001b[39m\u001b[38;5;241m*\u001b[39mkwargs):\n\u001b[0;32m   1411\u001b[0m     \u001b[38;5;28;01mif\u001b[39;00m data \u001b[38;5;129;01mis\u001b[39;00m \u001b[38;5;28;01mNone\u001b[39;00m:\n\u001b[1;32m-> 1412\u001b[0m         \u001b[38;5;28;01mreturn\u001b[39;00m func(ax, \u001b[38;5;241m*\u001b[39m\u001b[38;5;28mmap\u001b[39m(sanitize_sequence, args), \u001b[38;5;241m*\u001b[39m\u001b[38;5;241m*\u001b[39mkwargs)\n\u001b[0;32m   1414\u001b[0m     bound \u001b[38;5;241m=\u001b[39m new_sig\u001b[38;5;241m.\u001b[39mbind(ax, \u001b[38;5;241m*\u001b[39margs, \u001b[38;5;241m*\u001b[39m\u001b[38;5;241m*\u001b[39mkwargs)\n\u001b[0;32m   1415\u001b[0m     auto_label \u001b[38;5;241m=\u001b[39m (bound\u001b[38;5;241m.\u001b[39marguments\u001b[38;5;241m.\u001b[39mget(label_namer)\n\u001b[0;32m   1416\u001b[0m                   \u001b[38;5;129;01mor\u001b[39;00m bound\u001b[38;5;241m.\u001b[39mkwargs\u001b[38;5;241m.\u001b[39mget(label_namer))\n",
      "File \u001b[1;32m~\\anaconda3\\lib\\site-packages\\matplotlib\\axes\\_axes.py:4468\u001b[0m, in \u001b[0;36mAxes.scatter\u001b[1;34m(self, x, y, s, c, marker, cmap, norm, vmin, vmax, alpha, linewidths, edgecolors, plotnonfinite, **kwargs)\u001b[0m\n\u001b[0;32m   4458\u001b[0m collection \u001b[38;5;241m=\u001b[39m mcoll\u001b[38;5;241m.\u001b[39mPathCollection(\n\u001b[0;32m   4459\u001b[0m         (path,), scales,\n\u001b[0;32m   4460\u001b[0m         facecolors\u001b[38;5;241m=\u001b[39mcolors,\n\u001b[1;32m   (...)\u001b[0m\n\u001b[0;32m   4465\u001b[0m         alpha\u001b[38;5;241m=\u001b[39malpha\n\u001b[0;32m   4466\u001b[0m         )\n\u001b[0;32m   4467\u001b[0m collection\u001b[38;5;241m.\u001b[39mset_transform(mtransforms\u001b[38;5;241m.\u001b[39mIdentityTransform())\n\u001b[1;32m-> 4468\u001b[0m \u001b[43mcollection\u001b[49m\u001b[38;5;241;43m.\u001b[39;49m\u001b[43mupdate\u001b[49m\u001b[43m(\u001b[49m\u001b[43mkwargs\u001b[49m\u001b[43m)\u001b[49m\n\u001b[0;32m   4470\u001b[0m \u001b[38;5;28;01mif\u001b[39;00m colors \u001b[38;5;129;01mis\u001b[39;00m \u001b[38;5;28;01mNone\u001b[39;00m:\n\u001b[0;32m   4471\u001b[0m     collection\u001b[38;5;241m.\u001b[39mset_array(c)\n",
      "File \u001b[1;32m~\\anaconda3\\lib\\site-packages\\matplotlib\\artist.py:1064\u001b[0m, in \u001b[0;36mArtist.update\u001b[1;34m(self, props)\u001b[0m\n\u001b[0;32m   1062\u001b[0m             func \u001b[38;5;241m=\u001b[39m \u001b[38;5;28mgetattr\u001b[39m(\u001b[38;5;28mself\u001b[39m, \u001b[38;5;124mf\u001b[39m\u001b[38;5;124m\"\u001b[39m\u001b[38;5;124mset_\u001b[39m\u001b[38;5;132;01m{\u001b[39;00mk\u001b[38;5;132;01m}\u001b[39;00m\u001b[38;5;124m\"\u001b[39m, \u001b[38;5;28;01mNone\u001b[39;00m)\n\u001b[0;32m   1063\u001b[0m             \u001b[38;5;28;01mif\u001b[39;00m \u001b[38;5;129;01mnot\u001b[39;00m callable(func):\n\u001b[1;32m-> 1064\u001b[0m                 \u001b[38;5;28;01mraise\u001b[39;00m \u001b[38;5;167;01mAttributeError\u001b[39;00m(\u001b[38;5;124mf\u001b[39m\u001b[38;5;124m\"\u001b[39m\u001b[38;5;132;01m{\u001b[39;00m\u001b[38;5;28mtype\u001b[39m(\u001b[38;5;28mself\u001b[39m)\u001b[38;5;241m.\u001b[39m\u001b[38;5;18m__name__\u001b[39m\u001b[38;5;132;01m!r}\u001b[39;00m\u001b[38;5;124m object \u001b[39m\u001b[38;5;124m\"\u001b[39m\n\u001b[0;32m   1065\u001b[0m                                      \u001b[38;5;124mf\u001b[39m\u001b[38;5;124m\"\u001b[39m\u001b[38;5;124mhas no property \u001b[39m\u001b[38;5;132;01m{\u001b[39;00mk\u001b[38;5;132;01m!r}\u001b[39;00m\u001b[38;5;124m\"\u001b[39m)\n\u001b[0;32m   1066\u001b[0m             ret\u001b[38;5;241m.\u001b[39mappend(func(v))\n\u001b[0;32m   1067\u001b[0m \u001b[38;5;28;01mif\u001b[39;00m ret:\n",
      "\u001b[1;31mAttributeError\u001b[0m: 'PathCollection' object has no property 'title'"
     ]
    },
    {
     "data": {
      "image/png": "[encoded data removed]",
      "text/plain": [
       "<Figure size 432x288 with 1 Axes>"
      ]
     },
     "metadata": {
      "needs_background": "light"
     },
     "output_type": "display_data"
    }
   ],
   "source": [
    "#loading the dataset\n",
    "data = np.load('AllSamples.npy')\n",
    "\n",
    "k1 = 6\n",
    "k2 = 6\n",
    "init_s1, error1 = strategy1(2006, k1)\n",
    "\n",
    "init_s2, error2 = strategy2(2006, k2)\n",
    "\n",
    "print(\"error for strategy1: \", error1)\n",
    "print(\"error for strategy2: \", error2)\n",
    "\n"
   ]
  }
 ],
 "metadata": {
  "kernelspec": {
   "display_name": "Python 3 (ipykernel)",
   "language": "python",
   "name": "python3"
  },
  "language_info": {
   "codemirror_mode": {
    "name": "ipython",
    "version": 3
   },
   "file_extension": ".py",
   "mimetype": "text/x-python",
   "name": "python",
   "nbconvert_exporter": "python",
   "pygments_lexer": "ipython3",
   "version": "3.9.12"
  }
 },
 "nbformat": 4,
 "nbformat_minor": 2
}
